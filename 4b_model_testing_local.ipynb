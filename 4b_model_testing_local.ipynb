{
 "cells": [
  {
   "cell_type": "markdown",
   "id": "3172c9da",
   "metadata": {},
   "source": [
    "# Part 4b - Model testing locally\n",
    " "
   ]
  },
  {
   "cell_type": "code",
   "execution_count": 1,
   "id": "7135f3c0",
   "metadata": {},
   "outputs": [],
   "source": [
    "!mkdir model"
   ]
  },
  {
   "cell_type": "code",
   "execution_count": 2,
   "id": "741bfd57",
   "metadata": {},
   "outputs": [
    {
     "name": "stdout",
     "output_type": "stream",
     "text": [
      "download: s3://sagemaker-us-east-1-905847418383/huggingface-pytorch-training-2021-12-01-09-15-45-087/output/model.tar.gz to model/model.tar.gz\n"
     ]
    }
   ],
   "source": [
    "!aws s3 cp s3://sagemaker-us-east-1-905847418383/huggingface-pytorch-training-2021-12-01-09-15-45-087/output/model.tar.gz model/"
   ]
  },
  {
   "cell_type": "code",
   "execution_count": 3,
   "id": "d1b94cca",
   "metadata": {},
   "outputs": [],
   "source": [
    "!tar -xf model/model.tar.gz -C model/"
   ]
  },
  {
   "cell_type": "code",
   "execution_count": 4,
   "id": "8394b655",
   "metadata": {},
   "outputs": [],
   "source": [
    "!rm -r model/checkpoint*"
   ]
  },
  {
   "cell_type": "code",
   "execution_count": 30,
   "id": "425650da",
   "metadata": {},
   "outputs": [],
   "source": [
    "from transformers import AutoTokenizer, AutoModelForSeq2SeqLM"
   ]
  },
  {
   "cell_type": "code",
   "execution_count": 31,
   "id": "c28dd246",
   "metadata": {},
   "outputs": [],
   "source": [
    "tokenizer = AutoTokenizer.from_pretrained('./model/')"
   ]
  },
  {
   "cell_type": "code",
   "execution_count": 33,
   "id": "1854880e",
   "metadata": {},
   "outputs": [],
   "source": [
    "model = AutoModelForSeq2SeqLM.from_pretrained('./model/').to('cpu').eval()"
   ]
  },
  {
   "cell_type": "code",
   "execution_count": 34,
   "id": "63568b3a",
   "metadata": {},
   "outputs": [
    {
     "data": {
      "text/plain": [
       "\"  Consider the blow-up $X$ of $\\\\mathbb{P}^3$ at 6 points in very general position and the 15 lines through the 6 points. We construct an infinite-order pseudo-automorphism $\\\\phi_X$ on $X$, induced by the complete linear system of a divisor of degree 13. The effective cone of $X$ has infinitely many extremal rays and hence, $X$ is not a Mori Dream Space. The threefold $X$ has a unique anticanonical section which is a Jacobian K3 Kummer surface $S$ of Picard number 17. The restriction of $\\\\phi_X$ on $S$ realizes one of Keum's 192 infinite-order automorphisms of Jacobian K3 Kummer surfaces. In general, we show the blow-up of $\\\\mathbb{P}^n$ ($n\\\\geq 3$) at $(n+3)$ very general points and certain 9 lines through them is not Mori Dream, with infinitely many extremal effective divisors. As an application, for $n\\\\geq 7$, the blow-up of $\\\\overline{M}_{0,n}$ at a very general point has infinitely many extremal effective divisors. \""
      ]
     },
     "execution_count": 34,
     "metadata": {},
     "output_type": "execute_result"
    }
   ],
   "source": [
    "texts[0]"
   ]
  },
  {
   "cell_type": "code",
   "execution_count": 35,
   "id": "363a189f",
   "metadata": {},
   "outputs": [],
   "source": [
    "input_ids = tokenizer(texts[0], truncation=True, padding='longest', return_tensors=\"pt\").input_ids.to('cpu')"
   ]
  },
  {
   "cell_type": "code",
   "execution_count": 36,
   "id": "d1a6b5b1",
   "metadata": {},
   "outputs": [],
   "source": [
    "output = model.generate(input_ids)\n",
    "predictions = tokenizer.batch_decode(output, skip_special_tokens=True)"
   ]
  },
  {
   "cell_type": "code",
   "execution_count": 37,
   "id": "2e6c8bfa",
   "metadata": {},
   "outputs": [
    {
     "data": {
      "text/plain": [
       "['The blow-up of $\\\\mathbb{P}^3$ at 6 points and certain 9 lines through   them is not Mori Dream, with infinitely many extremal effective divisors and applications to the blow-ups of $\\\\overline{M}_{0,n}$ at a very general point']"
      ]
     },
     "execution_count": 37,
     "metadata": {},
     "output_type": "execute_result"
    }
   ],
   "source": [
    "predictions"
   ]
  },
  {
   "cell_type": "code",
   "execution_count": null,
   "id": "b19277cc",
   "metadata": {},
   "outputs": [],
   "source": [
    "import pandas as pd\n",
    "df_test = pd.read_csv('data/test.csv')\n",
    "ref_summaries = list(df_test['summary'])\n",
    "texts = list(df_test['text'])"
   ]
  },
  {
   "cell_type": "code",
   "execution_count": 20,
   "id": "768b9aa2",
   "metadata": {},
   "outputs": [],
   "source": [
    "from datasets import load_metric\n",
    "metric = load_metric(\"rouge\")"
   ]
  },
  {
   "cell_type": "code",
   "execution_count": 21,
   "id": "b9b53501",
   "metadata": {},
   "outputs": [],
   "source": [
    "def calc_rouge_scores(candidates, references):\n",
    "    result = metric.compute(predictions=candidates, references=references, use_stemmer=True)\n",
    "    result = {key: round(value.mid.fmeasure * 100, 1) for key, value in result.items()}\n",
    "    return result"
   ]
  },
  {
   "cell_type": "code",
   "execution_count": 22,
   "id": "e6289fd1",
   "metadata": {},
   "outputs": [
    {
     "data": {
      "text/plain": [
       "{'rouge1': 44.5, 'rouge2': 24.5, 'rougeL': 39.4, 'rougeLsum': 39.4}"
      ]
     },
     "execution_count": 22,
     "metadata": {},
     "output_type": "execute_result"
    }
   ],
   "source": [
    "calc_rouge_scores(candidate_summaries, ref_summaries)"
   ]
  },
  {
   "cell_type": "code",
   "execution_count": 31,
   "id": "0cb22fd1",
   "metadata": {},
   "outputs": [
    {
     "name": "stdout",
     "output_type": "stream",
     "text": [
      "0\n",
      "50\n",
      "100\n",
      "150\n",
      "200\n",
      "250\n",
      "300\n",
      "350\n",
      "400\n",
      "450\n",
      "500\n",
      "550\n",
      "600\n",
      "650\n",
      "700\n",
      "750\n",
      "800\n",
      "850\n",
      "900\n",
      "950\n"
     ]
    }
   ],
   "source": [
    "candidate_summaries_topk = []\n",
    "\n",
    "for i, text in enumerate(texts):\n",
    "    if i % 100 == 0:\n",
    "        print(i)\n",
    "    data = {\"inputs\":text, \"parameters_list\":[{\"min_length\": 5, \"max_length\": 20, \"num_beams\": 50, \"top_p\": 0.9, \"do_sample\": True}]}\n",
    "    candidate = predictor.predict(data)\n",
    "    candidate_summaries_topk.append(candidate[0][0])"
   ]
  },
  {
   "cell_type": "code",
   "execution_count": 13,
   "id": "0aa9696e",
   "metadata": {},
   "outputs": [],
   "source": [
    "file = open(\"model-summaries.txt\", \"w\")\n",
    "for s in candidate_summaries:\n",
    "    file.write(s + \"\\n\")\n",
    "file.close()"
   ]
  }
 ],
 "metadata": {
  "kernelspec": {
   "display_name": "conda_pytorch_latest_p37",
   "language": "python",
   "name": "conda_pytorch_latest_p37"
  },
  "language_info": {
   "codemirror_mode": {
    "name": "ipython",
    "version": 3
   },
   "file_extension": ".py",
   "mimetype": "text/x-python",
   "name": "python",
   "nbconvert_exporter": "python",
   "pygments_lexer": "ipython3",
   "version": "3.7.12"
  }
 },
 "nbformat": 4,
 "nbformat_minor": 5
}
