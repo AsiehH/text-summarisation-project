{
 "cells": [
  {
   "cell_type": "markdown",
   "id": "45bca741",
   "metadata": {},
   "source": [
    "# Part 2 - Zero-shot summaries\n",
    "\n",
    "In this part we will use Hugging Face's high-level Pipeline API to create summaries with a pre-trained model. There are three main steps involved when you pass some text to a pipeline:\n",
    "\n",
    "1) The text is preprocessed into a format the model can understand.\n",
    "\n",
    "2) The preprocessed inputs are passed to the model.\n",
    "\n",
    "3) The predictions of the model are post-processed, so you can make sense of them."
   ]
  },
  {
   "cell_type": "code",
   "execution_count": null,
   "id": "35419291",
   "metadata": {},
   "outputs": [],
   "source": [
    "from transformers import pipeline\n",
    "summarizer = pipeline(\"summarization\")"
   ]
  },
  {
   "cell_type": "markdown",
   "id": "391d81e0",
   "metadata": {},
   "source": [
    "This line of code allows us to see which model is being used by default. We can also find this information in the source code for pipelines: https://huggingface.co/transformers/_modules/transformers/pipelines.html"
   ]
  },
  {
   "cell_type": "code",
   "execution_count": null,
   "id": "3e96cfa7",
   "metadata": {},
   "outputs": [],
   "source": [
    "summarizer.model.config.__getattribute__('_name_or_path')"
   ]
  },
  {
   "cell_type": "markdown",
   "id": "877b3571",
   "metadata": {},
   "source": [
    "The model for the standard summarisation task is https://huggingface.co/sshleifer/distilbart-cnn-12-6, which has been specifically trained on 2 datasets: https://huggingface.co/datasets/cnn_dailymail and https://huggingface.co/datasets/xsum. We will keep using this model, but if we wanted to use a different model we could easily do this by specifing it like below. All the models that are trained for summarisation can be viewed here: https://huggingface.co/models?pipeline_tag=summarization&sort=downloads"
   ]
  },
  {
   "cell_type": "code",
   "execution_count": null,
   "id": "b2fb6e0c",
   "metadata": {},
   "outputs": [],
   "source": [
    "# summarizer = pipeline(\"summarization\", model='facebook/bart-large-cnn')"
   ]
  },
  {
   "cell_type": "code",
   "execution_count": null,
   "id": "86d1fd5f",
   "metadata": {},
   "outputs": [],
   "source": [
    "import pandas as pd\n",
    "df_test = pd.read_csv('data/test.csv')\n",
    "ref_summaries = list(df_test['summary'])\n",
    "texts = list(df_test['text'])"
   ]
  },
  {
   "cell_type": "markdown",
   "id": "a6e4f7e5",
   "metadata": {},
   "source": [
    "Testing the pipeline with an abstract from the test dataset"
   ]
  },
  {
   "cell_type": "code",
   "execution_count": null,
   "id": "5decbe0a",
   "metadata": {},
   "outputs": [],
   "source": [
    "texts[0]"
   ]
  },
  {
   "cell_type": "code",
   "execution_count": null,
   "id": "0825b8a0",
   "metadata": {},
   "outputs": [],
   "source": [
    "summarizer(texts[0], max_length=20)"
   ]
  },
  {
   "cell_type": "markdown",
   "id": "6824aa64",
   "metadata": {},
   "source": [
    "Running the pipeline over all 2,000 examples. Because this will take a while we print a counter to keep track of the progress."
   ]
  },
  {
   "cell_type": "code",
   "execution_count": null,
   "id": "cd235a5a",
   "metadata": {},
   "outputs": [],
   "source": [
    "# params = {\"min_length\":5, \"max_length\":20, \"num_beams\":50}\n",
    "candidate_summaries = []\n",
    "\n",
    "for i, text in enumerate(texts):\n",
    "    if i % 50 == 0:\n",
    "        print(i)\n",
    "    candidate = summarizer(text, min_length=5, max_length=20)#, **params)\n",
    "    candidate_summaries.append(candidate[0]['summary_text'])"
   ]
  },
  {
   "cell_type": "markdown",
   "id": "a44cd8fa",
   "metadata": {},
   "source": [
    "Saving the candidate summaries in case we want to investigate further."
   ]
  },
  {
   "cell_type": "code",
   "execution_count": null,
   "id": "5c7b67e5",
   "metadata": {},
   "outputs": [],
   "source": [
    "file = open(\"zero-shot-summaries.txt\", \"w\")\n",
    "for s in candidate_summaries:\n",
    "    file.write(s + \"\\n\")\n",
    "file.close()"
   ]
  },
  {
   "cell_type": "code",
   "execution_count": null,
   "id": "00cf5c00",
   "metadata": {},
   "outputs": [],
   "source": [
    "candidate_summaries[:5]"
   ]
  },
  {
   "cell_type": "markdown",
   "id": "5a2cb15a",
   "metadata": {},
   "source": [
    "Calculating the ROUGE scores"
   ]
  },
  {
   "cell_type": "code",
   "execution_count": null,
   "id": "1849ba4c",
   "metadata": {},
   "outputs": [],
   "source": [
    "from datasets import load_metric\n",
    "metric = load_metric(\"rouge\")"
   ]
  },
  {
   "cell_type": "code",
   "execution_count": null,
   "id": "9096d4a5",
   "metadata": {},
   "outputs": [],
   "source": [
    "def calc_rouge_scores(candidates, references):\n",
    "    result = metric.compute(predictions=candidates, references=references, use_stemmer=True)\n",
    "    result = {key: round(value.mid.fmeasure * 100, 1) for key, value in result.items()}\n",
    "    return result"
   ]
  },
  {
   "cell_type": "code",
   "execution_count": null,
   "id": "77163b38",
   "metadata": {},
   "outputs": [],
   "source": [
    "calc_rouge_scores(candidate_summaries, ref_summaries)"
   ]
  },
  {
   "cell_type": "code",
   "execution_count": null,
   "id": "5daac0f2",
   "metadata": {},
   "outputs": [],
   "source": []
  }
 ],
 "metadata": {
  "kernelspec": {
   "display_name": "conda_pytorch_latest_p37",
   "language": "python",
   "name": "conda_pytorch_latest_p37"
  },
  "language_info": {
   "codemirror_mode": {
    "name": "ipython",
    "version": 3
   },
   "file_extension": ".py",
   "mimetype": "text/x-python",
   "name": "python",
   "nbconvert_exporter": "python",
   "pygments_lexer": "ipython3",
   "version": "3.7.12"
  }
 },
 "nbformat": 4,
 "nbformat_minor": 5
}
