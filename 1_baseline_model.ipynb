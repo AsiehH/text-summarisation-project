{
 "cells": [
  {
   "cell_type": "code",
   "execution_count": null,
   "id": "91722378",
   "metadata": {},
   "outputs": [],
   "source": [
    "import pandas as pd\n",
    "df_test = pd.read_csv('data/test.csv')"
   ]
  },
  {
   "cell_type": "code",
   "execution_count": null,
   "id": "6443f90a",
   "metadata": {},
   "outputs": [],
   "source": [
    "df_test.head()"
   ]
  },
  {
   "cell_type": "code",
   "execution_count": null,
   "id": "e11c206e",
   "metadata": {},
   "outputs": [],
   "source": [
    "from datasets import load_metric\n",
    "metric = load_metric(\"rouge\")"
   ]
  },
  {
   "cell_type": "code",
   "execution_count": null,
   "id": "26f5c9c6",
   "metadata": {},
   "outputs": [],
   "source": [
    "def calc_rouge_scores(candidates, references):\n",
    "    result = metric.compute(predictions=candidates, references=references, use_stemmer=True)\n",
    "    result = {key: round(value.mid.fmeasure * 100, 1) for key, value in result.items()}\n",
    "    return result"
   ]
  },
  {
   "cell_type": "code",
   "execution_count": null,
   "id": "aa586503",
   "metadata": {},
   "outputs": [],
   "source": [
    "ref_summaries = list(df_test['review_title'])"
   ]
  },
  {
   "cell_type": "code",
   "execution_count": null,
   "id": "50aff44a",
   "metadata": {},
   "outputs": [],
   "source": [
    "import re\n",
    "for i in range (3):\n",
    "    candidate_summaries = list(df_test['review_body'].apply(lambda x: ' '.join(re.split(r'(?<=[.:;])\\s', x)[:i+1])))\n",
    "    print(f\"First {i+1} senctences: Scores {calc_rouge_scores(candidate_summaries, ref_summaries)}\")"
   ]
  },
  {
   "cell_type": "code",
   "execution_count": null,
   "id": "f1e5de78",
   "metadata": {},
   "outputs": [],
   "source": [
    "pd.options.display.max_colwidth =100"
   ]
  },
  {
   "cell_type": "code",
   "execution_count": null,
   "id": "e3add1dd",
   "metadata": {},
   "outputs": [],
   "source": [
    "df_test[df_test['review_title'].str[:20] == df_test['review_body'].str[:20]].head()"
   ]
  },
  {
   "cell_type": "code",
   "execution_count": null,
   "id": "b7dd8e7d",
   "metadata": {},
   "outputs": [],
   "source": [
    "len(df_test[df_test['review_title'].str[:20] == df_test['review_body'].str[:20]])/len(df_test)"
   ]
  }
 ],
 "metadata": {
  "kernelspec": {
   "display_name": "conda_pytorch_latest_p37",
   "language": "python",
   "name": "conda_pytorch_latest_p37"
  },
  "language_info": {
   "codemirror_mode": {
    "name": "ipython",
    "version": 3
   },
   "file_extension": ".py",
   "mimetype": "text/x-python",
   "name": "python",
   "nbconvert_exporter": "python",
   "pygments_lexer": "ipython3",
   "version": "3.7.12"
  }
 },
 "nbformat": 4,
 "nbformat_minor": 5
}
