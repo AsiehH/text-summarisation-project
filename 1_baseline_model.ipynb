{
 "cells": [
  {
   "cell_type": "markdown",
   "id": "87ad9d4b",
   "metadata": {},
   "source": [
    "# Part 1 - Creating a baseline\n",
    "\n",
    "In this notebook we will create a simple yet important baseline so that we have an idea of how much our deep learning model improves the summaries. We use the ROUGE metric to measure the baseline."
   ]
  },
  {
   "cell_type": "code",
   "execution_count": null,
   "id": "71c4358c",
   "metadata": {},
   "outputs": [],
   "source": [
    "import pandas as pd\n",
    "df_test = pd.read_csv('data/test.csv')"
   ]
  },
  {
   "cell_type": "code",
   "execution_count": null,
   "id": "ad11e383",
   "metadata": {},
   "outputs": [],
   "source": [
    "df_test.head()"
   ]
  },
  {
   "cell_type": "code",
   "execution_count": null,
   "id": "f3e6dd6d",
   "metadata": {},
   "outputs": [],
   "source": [
    "from datasets import load_metric\n",
    "metric = load_metric(\"rouge\")"
   ]
  },
  {
   "cell_type": "markdown",
   "id": "17c31a83",
   "metadata": {},
   "source": [
    "We're copying this function from https://github.com/huggingface/transformers/blob/v4.6.1/examples/pytorch/summarization/run_summarization.py to ensure we always use the same metric calculation."
   ]
  },
  {
   "cell_type": "code",
   "execution_count": null,
   "id": "bc278a03",
   "metadata": {},
   "outputs": [],
   "source": [
    "def calc_rouge_scores(candidates, references):\n",
    "    result = metric.compute(predictions=candidates, references=references, use_stemmer=True)\n",
    "    result = {key: round(value.mid.fmeasure * 100, 1) for key, value in result.items()}\n",
    "    return result"
   ]
  },
  {
   "cell_type": "markdown",
   "id": "be627e01",
   "metadata": {},
   "source": [
    "The summaries from the test dataset are the references"
   ]
  },
  {
   "cell_type": "code",
   "execution_count": null,
   "id": "5ce85f75",
   "metadata": {},
   "outputs": [],
   "source": [
    "ref_summaries = list(df_test['summary'])"
   ]
  },
  {
   "cell_type": "markdown",
   "id": "68b505ad",
   "metadata": {},
   "source": [
    "Now we cerate 3 baselines by comparing the reference summaries with the first sentence, the first 2 sentences, and the first 3 sentences in the abstract"
   ]
  },
  {
   "cell_type": "code",
   "execution_count": null,
   "id": "43c61d8c",
   "metadata": {},
   "outputs": [],
   "source": [
    "import re\n",
    "for i in range (3):\n",
    "    candidate_summaries = list(df_test['text'].apply(lambda x: ' '.join(re.split(r'(?<=[.:;])\\s', x)[:i+1])))\n",
    "    print(f\"First {i+1} senctences: Scores {calc_rouge_scores(candidate_summaries, ref_summaries)}\")"
   ]
  }
 ],
 "metadata": {
  "kernelspec": {
   "display_name": "conda_pytorch_latest_p37",
   "language": "python",
   "name": "conda_pytorch_latest_p37"
  },
  "language_info": {
   "codemirror_mode": {
    "name": "ipython",
    "version": 3
   },
   "file_extension": ".py",
   "mimetype": "text/x-python",
   "name": "python",
   "nbconvert_exporter": "python",
   "pygments_lexer": "ipython3",
   "version": "3.7.12"
  }
 },
 "nbformat": 4,
 "nbformat_minor": 5
}
