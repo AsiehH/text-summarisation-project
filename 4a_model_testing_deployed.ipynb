{
 "cells": [
  {
   "cell_type": "markdown",
   "id": "32243a2f",
   "metadata": {},
   "source": [
    "# Part 4a - Model testing with model deployed\n",
    " "
   ]
  },
  {
   "cell_type": "code",
   "execution_count": null,
   "id": "05094950",
   "metadata": {},
   "outputs": [],
   "source": [
    "import pandas as pd\n",
    "df_test = pd.read_csv('data/test.csv')\n",
    "ref_summaries = list(df_test['summary'])\n",
    "texts = list(df_test['text'])"
   ]
  },
  {
   "cell_type": "code",
   "execution_count": 1,
   "id": "5b69e9b2",
   "metadata": {},
   "outputs": [],
   "source": [
    "from sagemaker.huggingface import HuggingFaceModel"
   ]
  },
  {
   "cell_type": "code",
   "execution_count": 5,
   "id": "e99cab68",
   "metadata": {},
   "outputs": [],
   "source": [
    "model_for_deployment = HuggingFaceModel(entry_point='inference.py',\n",
    "                                        source_dir='inference_code',\n",
    "                                        model_data='s3://sagemaker-us-east-1-905847418383/huggingface-pytorch-training-2021-12-01-09-15-45-087/output/model.tar.gz',\n",
    "                                        role=role,\n",
    "                                        pytorch_version='1.7.1',\n",
    "                                        py_version='py36',\n",
    "                                        transformers_version='4.6.1',\n",
    "                                        )"
   ]
  },
  {
   "cell_type": "code",
   "execution_count": 6,
   "id": "2d54b2d7",
   "metadata": {},
   "outputs": [
    {
     "name": "stdout",
     "output_type": "stream",
     "text": [
      "-------!"
     ]
    }
   ],
   "source": [
    "predictor = model_for_deployment.deploy(initial_instance_count=1,\n",
    "                                        instance_type='ml.g4dn.xlarge',\n",
    "                                        serializer=sagemaker.serializers.JSONSerializer(),\n",
    "                                        deserializer=sagemaker.deserializers.JSONDeserializer()\n",
    "                                        )"
   ]
  },
  {
   "cell_type": "code",
   "execution_count": 10,
   "id": "3d9d37f2",
   "metadata": {},
   "outputs": [
    {
     "data": {
      "text/plain": [
       "[['The blow-up of $\\\\mathbb{P}^3$ at 6 points']]"
      ]
     },
     "execution_count": 10,
     "metadata": {},
     "output_type": "execute_result"
    }
   ],
   "source": [
    "data = {\"inputs\":texts[0], \"parameters_list\":[{\"min_length\": 5, \"max_length\": 20}]}\n",
    "predictor.predict(data)"
   ]
  },
  {
   "cell_type": "code",
   "execution_count": 11,
   "id": "5cfedb80",
   "metadata": {},
   "outputs": [
    {
     "data": {
      "text/plain": [
       "'Birational geometry of blow-ups of projective spaces along points and   lines'"
      ]
     },
     "execution_count": 11,
     "metadata": {},
     "output_type": "execute_result"
    }
   ],
   "source": [
    "ref_summaries[0]"
   ]
  },
  {
   "cell_type": "code",
   "execution_count": 12,
   "id": "e29ad1b0",
   "metadata": {},
   "outputs": [
    {
     "name": "stdout",
     "output_type": "stream",
     "text": [
      "0\n",
      "50\n",
      "100\n",
      "150\n",
      "200\n",
      "250\n",
      "300\n",
      "350\n",
      "400\n",
      "450\n",
      "500\n",
      "550\n",
      "600\n",
      "650\n",
      "700\n",
      "750\n",
      "800\n",
      "850\n",
      "900\n",
      "950\n",
      "1000\n",
      "1050\n",
      "1100\n",
      "1150\n",
      "1200\n",
      "1250\n",
      "1300\n",
      "1350\n",
      "1400\n",
      "1450\n",
      "1500\n",
      "1550\n",
      "1600\n",
      "1650\n",
      "1700\n",
      "1750\n",
      "1800\n",
      "1850\n",
      "1900\n",
      "1950\n"
     ]
    }
   ],
   "source": [
    "candidate_summaries = []\n",
    "\n",
    "for i, text in enumerate(texts):\n",
    "    if i % 100 == 0:\n",
    "        print(i)\n",
    "    data = {\"inputs\":text, \"parameters_list\":[{\"min_length\": 5, \"max_length\": 20}]}\n",
    "    candidate = predictor.predict(data)\n",
    "    candidate_summaries.append(candidate[0][0])"
   ]
  },
  {
   "cell_type": "code",
   "execution_count": 13,
   "id": "e748afe4",
   "metadata": {},
   "outputs": [],
   "source": [
    "file = open(\"summaries/model-summaries.txt\", \"w\")\n",
    "for s in candidate_summaries:\n",
    "    file.write(s + \"\\n\")\n",
    "file.close()"
   ]
  },
  {
   "cell_type": "code",
   "execution_count": 20,
   "id": "7023c0a3",
   "metadata": {},
   "outputs": [],
   "source": [
    "from datasets import load_metric\n",
    "metric = load_metric(\"rouge\")"
   ]
  },
  {
   "cell_type": "code",
   "execution_count": 21,
   "id": "7e773c5c",
   "metadata": {},
   "outputs": [],
   "source": [
    "def calc_rouge_scores(candidates, references):\n",
    "    result = metric.compute(predictions=candidates, references=references, use_stemmer=True)\n",
    "    result = {key: round(value.mid.fmeasure * 100, 1) for key, value in result.items()}\n",
    "    return result"
   ]
  },
  {
   "cell_type": "code",
   "execution_count": 22,
   "id": "d8a3423c",
   "metadata": {},
   "outputs": [
    {
     "data": {
      "text/plain": [
       "{'rouge1': 44.5, 'rouge2': 24.5, 'rougeL': 39.4, 'rougeLsum': 39.4}"
      ]
     },
     "execution_count": 22,
     "metadata": {},
     "output_type": "execute_result"
    }
   ],
   "source": [
    "calc_rouge_scores(candidate_summaries, ref_summaries)"
   ]
  }
 ],
 "metadata": {
  "kernelspec": {
   "display_name": "conda_pytorch_latest_p37",
   "language": "python",
   "name": "conda_pytorch_latest_p37"
  },
  "language_info": {
   "codemirror_mode": {
    "name": "ipython",
    "version": 3
   },
   "file_extension": ".py",
   "mimetype": "text/x-python",
   "name": "python",
   "nbconvert_exporter": "python",
   "pygments_lexer": "ipython3",
   "version": "3.7.12"
  }
 },
 "nbformat": 4,
 "nbformat_minor": 5
}
